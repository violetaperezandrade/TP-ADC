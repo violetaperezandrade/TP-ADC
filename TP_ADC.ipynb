{
 "cells": [
  {
   "cell_type": "code",
   "execution_count": 1,
   "metadata": {},
   "outputs": [
    {
     "ename": "SyntaxError",
     "evalue": "invalid syntax (<ipython-input-1-784ef51113c4>, line 2)",
     "output_type": "error",
     "traceback": [
      "\u001b[0;36m  File \u001b[0;32m\"<ipython-input-1-784ef51113c4>\"\u001b[0;36m, line \u001b[0;32m2\u001b[0m\n\u001b[0;31m    pkg load control\u001b[0m\n\u001b[0m           ^\u001b[0m\n\u001b[0;31mSyntaxError\u001b[0m\u001b[0;31m:\u001b[0m invalid syntax\n"
     ]
    }
   ],
   "source": [
    "#pkg install -forge control\n",
    "pkg load control\n",
    "pkg load symbolic\n",
    "warning('off', 'all');"
   ]
  },
  {
   "cell_type": "markdown",
   "metadata": {},
   "source": [
    "## Transferencia:\n",
    "\n",
    "$$ H(s) = \\dfrac{s^4}{s^4 + s^3 . 4926 + s^2 . 1,213 . 10^7 + s . 1,75 . 10^{10} + 1,262 . 10^{13}} $$"
   ]
  },
  {
   "cell_type": "markdown",
   "metadata": {},
   "source": [
    "## 1)\n",
    "\n",
    "Para hallar el tipo de filtro hago tender s a cero y a infinito y veo los valores que obtengo\n",
    "\n",
    "$$ \\lim_{s \\to \\infty}H(s) = 0 $$\n",
    "\n",
    "\n",
    "$$ \\lim_{s \\to \\infty}H(s) = 1 $$\n",
    "\n",
    "Por lo tanto es un filtro **pasa altos**"
   ]
  },
  {
   "cell_type": "code",
   "execution_count": 30,
   "metadata": {},
   "outputs": [],
   "source": [
    "num = [1,0,0,0,0];\n",
    "den = [1, 4926, 1.213 * 10^7, 1.75 * 10^10, 1.262 * 10^13];\n",
    "H = tf(num, den);"
   ]
  },
  {
   "cell_type": "markdown",
   "metadata": {},
   "source": [
    "## 1) Ceros, polos, $w_0$ y $Q$"
   ]
  },
  {
   "cell_type": "code",
   "execution_count": 31,
   "metadata": {},
   "outputs": [
    {
     "name": "stdout",
     "output_type": "stream",
     "text": [
      "Ceros y polos: \n",
      "z = \n",
      "{\n",
      "  [1,1] =\n",
      "\n",
      "     0\n",
      "     0\n",
      "     0\n",
      "     0\n",
      "\n",
      "}\n",
      "p = \n",
      "{\n",
      "  [1,1] =\n",
      "\n",
      "     -721.28 + 1741.41i\n",
      "     -721.28 - 1741.41i\n",
      "    -1741.72 +  720.14i\n",
      "    -1741.72 -  720.14i\n",
      "\n",
      "}\n"
     ]
    }
   ],
   "source": [
    "syms s\n",
    "[z, p] = zpkdata(H);\n",
    "\n",
    "printf(\"Ceros y polos: \\n\")\n",
    "z,p"
   ]
  },
  {
   "cell_type": "markdown",
   "metadata": {},
   "source": [
    "Para hallar $w_0$ y $Q$, factorizo el denominador de tal forma que me quede algo del siguiente estilo:\n",
    "\n",
    "$$s^2 + \\dfrac{w_0}{Q} + w_{0}^2$$\n",
    "\n",
    "Al tener dos pares de raíces complejas conjugadas obtendré dos polinomios"
   ]
  },
  {
   "cell_type": "code",
   "execution_count": 82,
   "metadata": {},
   "outputs": [
    {
     "name": "stdout",
     "output_type": "stream",
     "text": [
      "Primer polinomio: 1*s^2 + 1442.6*s^1 + 3.5528e+06\n",
      "\n",
      "Segundo polinomio: 1*s^2 + 3483.4*s^1 + 3.5522e+06\n"
     ]
    }
   ],
   "source": [
    "r1 = [-721.28 + 1741.41i, -721.28 - 1741.41i];\n",
    "r2 = [-1741.72 +  720.14i, -1741.72 - 720.14i];\n",
    "p1 = poly(r1);\n",
    "p2 = poly(r2);\n",
    "\n",
    "printf(\"Primer polinomio: \")\n",
    "polyout(p1)\n",
    "\n",
    "\n",
    "printf(\"\\nSegundo polinomio: \")\n",
    "polyout(p2)"
   ]
  },
  {
   "cell_type": "code",
   "execution_count": 83,
   "metadata": {},
   "outputs": [
    {
     "name": "stdout",
     "output_type": "stream",
     "text": [
      "w0_1 =  1884.9\n",
      "Q1 =  1.3066\n",
      "w0_2 =  1884.7\n",
      "Q2 =  0.54106\n"
     ]
    }
   ],
   "source": [
    "w0_1 = (3.5528e+06)^0.5\n",
    "Q1 = w0_1 / 1442.6\n",
    "\n",
    "w0_2 = (3.5522e+06)^0.5\n",
    "Q2 = w0_2 / 3483.4"
   ]
  },
  {
   "cell_type": "markdown",
   "metadata": {},
   "source": [
    "## 2)"
   ]
  },
  {
   "cell_type": "markdown",
   "metadata": {},
   "source": [
    "La respuesta al escalón se obtiene de la siguiente manera:\n",
    "\n",
    "$$\\mathscr{L}^{-1}\\left\\{ \\dfrac{1}{s}.H(s) \\right\\}$$"
   ]
  },
  {
   "cell_type": "markdown",
   "metadata": {},
   "source": [
    "## Respuesta al escalón"
   ]
  },
  {
   "cell_type": "code",
   "execution_count": 77,
   "metadata": {},
   "outputs": [
    {
     "name": "stdout",
     "output_type": "stream",
     "text": [
      "\r\n",
      "Transfer function 'Hesc' from input 'u1' to output ...\r\n",
      "\r\n",
      "                                s^3                          \r\n",
      " y1:  -------------------------------------------------------\r\n",
      "      s^4 + 4926 s^3 + 1.213e+07 s^2 + 1.75e+10 s + 1.262e+13\r\n",
      "\r\n",
      "Continuous-time model.\r\n"
     ]
    }
   ],
   "source": [
    "#H(s) / s\n",
    "num = [1,0,0,0];\n",
    "den = [1, 4926, 1.213 * 10^7, 1.75 * 10^10, 1.262 * 10^13];\n",
    "Hesc = tf(num, den);\n",
    "Hesc"
   ]
  },
  {
   "cell_type": "markdown",
   "metadata": {},
   "source": [
    "Dado que el grado del denominador es mayor que el del numerador utilizo fracciones simples para poder escribir la función de una manera distinta pero equivalente\n",
    "\n",
    "$$ \\dfrac{s^3}{(s^2 + 1442.6s + 3.5528.10^6)(s^2 + 3483.4s + 3.5522.10^6)} = \\dfrac{A.s + B}{s^2 + 1442.6s + 3.5528.10^6} + \\dfrac{C.s + D}{s^2 + 3483.4s + 3.5522.10^6}$$"
   ]
  },
  {
   "cell_type": "code",
   "execution_count": null,
   "metadata": {},
   "outputs": [],
   "source": []
  },
  {
   "cell_type": "code",
   "execution_count": null,
   "metadata": {},
   "outputs": [],
   "source": []
  },
  {
   "cell_type": "markdown",
   "metadata": {},
   "source": [
    "## Respuesta al impulso"
   ]
  },
  {
   "cell_type": "code",
   "execution_count": null,
   "metadata": {},
   "outputs": [],
   "source": []
  },
  {
   "cell_type": "code",
   "execution_count": null,
   "metadata": {},
   "outputs": [],
   "source": []
  },
  {
   "cell_type": "code",
   "execution_count": null,
   "metadata": {},
   "outputs": [],
   "source": []
  },
  {
   "cell_type": "code",
   "execution_count": null,
   "metadata": {},
   "outputs": [],
   "source": []
  }
 ],
 "metadata": {
  "kernelspec": {
   "display_name": "Python 3",
   "language": "python",
   "name": "python3"
  },
  "language_info": {
   "codemirror_mode": {
    "name": "ipython",
    "version": 3
   },
   "file_extension": ".py",
   "mimetype": "text/x-python",
   "name": "python",
   "nbconvert_exporter": "python",
   "pygments_lexer": "ipython3",
   "version": "3.8.5"
  }
 },
 "nbformat": 4,
 "nbformat_minor": 4
}
